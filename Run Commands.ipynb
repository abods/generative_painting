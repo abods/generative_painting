{
 "cells": [
  {
   "cell_type": "code",
   "execution_count": null,
   "metadata": {},
   "outputs": [],
   "source": [
    "## Abdullah Alotaibi\n",
    "## Jan 25 2020"
   ]
  },
  {
   "cell_type": "code",
   "execution_count": null,
   "metadata": {},
   "outputs": [],
   "source": [
    "# 1 Preparing Data\n",
    "# Resize images orginal images\n",
    "python3 tools/process.py --input_dir photos/original   --operation resize   --output_dir photos/original_resized"
   ]
  },
  {
   "cell_type": "code",
   "execution_count": null,
   "metadata": {},
   "outputs": [],
   "source": [
    "# 1.2 Preparing Data\n",
    "# Resize landmark images\n",
    "python3 tools/process.py   --input_dir photos/landmarks   --operation resize   --output_dir photos/landmarks_resized"
   ]
  },
  {
   "cell_type": "code",
   "execution_count": null,
   "metadata": {},
   "outputs": [],
   "source": [
    "# 1.3 Preparing Data\n",
    "# Combine images\n",
    "python3 tools/process.py   --input_dir photos/landmarks_resized   --b_dir photos/original_resized   --operation combine   --output_dir photos/combined"
   ]
  },
  {
   "cell_type": "code",
   "execution_count": null,
   "metadata": {},
   "outputs": [],
   "source": [
    "# 1.4 Preparing Data\n",
    "# Split dataset into train/val set to be used for training and testing\n",
    "python tools/split.py   --dir photos/combined"
   ]
  },
  {
   "cell_type": "code",
   "execution_count": null,
   "metadata": {},
   "outputs": [],
   "source": [
    "# 2 Training\n",
    "# Train the model\n",
    "python3 pix2pix.py   --mode train   --output_dir portraits-model   --max_epochs 600   --input_dir training-data-combined/   --which_direction AtoB --batch_size 8"
   ]
  },
  {
   "cell_type": "code",
   "execution_count": null,
   "metadata": {},
   "outputs": [],
   "source": [
    "# Testing\n",
    "# Test images\n",
    "python3 pix2pix.py --mode test       --output_dir ../portraits_facials_test_results_512       --input_dir ../videoImages/test       --checkpoint portraits-model"
   ]
  },
  {
   "cell_type": "code",
   "execution_count": null,
   "metadata": {},
   "outputs": [],
   "source": [
    "# Exporting\n",
    "# Exporting the model checkpoint to be used online as pre-trained bin file\n",
    "python3 server/tools/export-checkpoint.py   --checkpoint portraits-model   --output_file ../static_models/portraits_model_512_AtoB.bin"
   ]
  },
  {
   "cell_type": "code",
   "execution_count": null,
   "metadata": {},
   "outputs": [],
   "source": [
    "# export model (creates a version of the model that works with the server in server/serve.py as well as google hosted tensorflow)\n",
    "python3 pix2pix.py \\\n",
    "  --mode export \\\n",
    "  --output_dir server/models/edges2cats_AtoB \\\n",
    "  --checkpoint train"
   ]
  },
  {
   "cell_type": "code",
   "execution_count": null,
   "metadata": {},
   "outputs": [],
   "source": [
    "# process image locally using exported model\n",
    "python3 server/tools/process-local.py \\\n",
    "    --model_dir server/models/edges2cats_AtoB \\\n",
    "    --input_file edges/cat1.png \\\n",
    "    --output_file output.png"
   ]
  },
  {
   "cell_type": "code",
   "execution_count": null,
   "metadata": {},
   "outputs": [],
   "source": [
    "# Make movie from images in directory \n",
    "ffmpeg  -framerate 15 -pattern_type glob -i '*.png' -c:v libx264 -pix_fmt yuv420p video.mp4"
   ]
  },
  {
   "cell_type": "code",
   "execution_count": null,
   "metadata": {},
   "outputs": [],
   "source": [
    "# Lunch Jupyter notebook \n",
    "jupyter notebook"
   ]
  },
  {
   "cell_type": "code",
   "execution_count": null,
   "metadata": {},
   "outputs": [],
   "source": [
    "# Watch model running\n",
    "tensorboard --logdir=portraits-model"
   ]
  }
 ],
 "metadata": {
  "kernelspec": {
   "display_name": "Python 3",
   "language": "python",
   "name": "python3"
  },
  "language_info": {
   "codemirror_mode": {
    "name": "ipython",
    "version": 3
   },
   "file_extension": ".py",
   "mimetype": "text/x-python",
   "name": "python",
   "nbconvert_exporter": "python",
   "pygments_lexer": "ipython3",
   "version": "3.7.4"
  }
 },
 "nbformat": 4,
 "nbformat_minor": 2
}
